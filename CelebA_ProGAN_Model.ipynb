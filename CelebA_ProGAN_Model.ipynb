{
  "nbformat": 4,
  "nbformat_minor": 0,
  "metadata": {
    "colab": {
      "name": "CelebA ProGAN Model.ipynb",
      "provenance": [],
      "include_colab_link": true
    },
    "kernelspec": {
      "name": "python3",
      "display_name": "Python 3"
    },
    "language_info": {
      "name": "python"
    }
  },
  "cells": [
    {
      "cell_type": "markdown",
      "metadata": {
        "id": "view-in-github",
        "colab_type": "text"
      },
      "source": [
        "<a href=\"https://colab.research.google.com/github/t6lase01/LAB42/blob/master/CelebA_ProGAN_Model.ipynb\" target=\"_parent\"><img src=\"https://colab.research.google.com/assets/colab-badge.svg\" alt=\"Open In Colab\"/></a>"
      ]
    },
    {
      "cell_type": "code",
      "source": [
        "!pip install torch"
      ],
      "metadata": {
        "id": "lWMlY2gHvJMt",
        "outputId": "ad94d02c-9b99-439d-d5dc-af5b47613b8f",
        "colab": {
          "base_uri": "https://localhost:8080/"
        }
      },
      "execution_count": 8,
      "outputs": [
        {
          "output_type": "stream",
          "name": "stdout",
          "text": [
            "Requirement already satisfied: torch in /usr/local/lib/python3.7/dist-packages (1.10.0+cu111)\n",
            "Requirement already satisfied: typing-extensions in /usr/local/lib/python3.7/dist-packages (from torch) (3.10.0.2)\n"
          ]
        }
      ]
    },
    {
      "cell_type": "code",
      "source": [
        "from google.colab import drive\n",
        "drive.mount('/content/drive')"
      ],
      "metadata": {
        "id": "koID-JPrl2gF",
        "outputId": "65c18d98-df68-4234-f630-51e596dc21a5",
        "colab": {
          "base_uri": "https://localhost:8080/"
        }
      },
      "execution_count": 3,
      "outputs": [
        {
          "output_type": "stream",
          "name": "stdout",
          "text": [
            "Drive already mounted at /content/drive; to attempt to forcibly remount, call drive.mount(\"/content/drive\", force_remount=True).\n"
          ]
        }
      ]
    },
    {
      "cell_type": "code",
      "execution_count": 6,
      "metadata": {
        "id": "996mQ-7iUIEH"
      },
      "outputs": [],
      "source": [
        "from IPython.terminal.embed import embed\n",
        "from tensorflow.python.module.module import Module\n",
        "from absl import logging\n",
        "\n",
        "import imageio\n",
        "import PIL.Image\n",
        "import matplotlib.pyplot as plt\n",
        "import numpy as np\n",
        "\n",
        "import tensorflow as tf\n",
        "tf.random.set_seed(0)\n",
        "\n",
        "import tensorflow_hub as hub\n",
        "import time\n",
        "\n",
        "\n",
        "try: \n",
        "  from google.colab import files\n",
        "except ImportError:\n",
        "  print(\"Import error occured\")\n",
        "  pass\n",
        "\n",
        "from IPython import display\n",
        "from skimage import transform\n",
        "\n",
        "latent_dim = 512\n",
        "\n",
        "\"\"\"\n",
        "Interpolate between two non-zero vectors that also do not both line through \n",
        "origin. First vector2 is normalised to same norm as vector1. And then iterpolate\n",
        "between the two vectors in a hypersphere.\n",
        "\"\"\"\n",
        "\n",
        "def interpolate_hypersphere(vector1, vector2, num_steps):\n",
        "  vector1_norm = tf.norm(vector1)\n",
        "  vector2_norm = tf.norm(vector2)\n",
        "  vector2_normalised = vector2 * (vector1_norm / vector2_norm)\n",
        "\n",
        "  vectors = []\n",
        "  for step in range(num_steps):\n",
        "    interpolated = vector1 + (vector2_normalised) * step / (num_steps - 1)\n",
        "    interpolated_norm = tf.norm(interpolated)\n",
        "    interpolated_normalised = interpolated * (vector1_norm / interpolated_norm)\n",
        "    vectors.append(interpolated_normalised)\n",
        "  return tf.stack(vectors)\n",
        "\n",
        "# Display an image\n",
        "def show_image(image):\n",
        "  image = tf.constant(image)\n",
        "  image = tf.image.convert_image_dtype(image, tf.uint8)\n",
        "  return PIL.Image.fromarray(image.numpy())\n",
        "\n",
        "# From the set of images, create animation\n",
        "def animate(images):\n",
        "  images = np.array(images)\n",
        "  converted_images = np.clip(images * 255, 0, 255).astype(np.uint8)\n",
        "  imageio.mimsave('./animation.gif', converted_images)\n",
        "  return embed.embed_file('./animation.gif')\n",
        "\n",
        "logging.set_verbosity(logging.ERROR)\n",
        "\n"
      ]
    },
    {
      "cell_type": "markdown",
      "source": [
        ""
      ],
      "metadata": {
        "id": "4IfQ99ooiN-D"
      }
    }
  ]
}